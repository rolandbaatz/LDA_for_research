#run time environment
import os

#aktuellen pfad auslesen wo dieses script liegt.


#path = r'C:\Users\minha\Desktop\Thesis\scripts\FH'#RB
mainpath = r'C:/Users/baatz/LDA_analysis/'
path=mainpath+'data_floodhydrology/'

#saving_path="C:/Users/minha/Desktop/plots_new/updated/"#RB
saving_path=path
os.chdir(path)

import pandas as pd
from gensim import matutils, models
import scipy.sparse
import matplotlib.pyplot as plt
import logging
import re
import os
import numpy as np
### choose the callbacks classes to import
from gensim.models.callbacks import PerplexityMetric, ConvergenceMetric, CoherenceMetric

